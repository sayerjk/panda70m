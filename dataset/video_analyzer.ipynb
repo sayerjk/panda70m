{
 "cells": [
  {
   "metadata": {
    "ExecuteTime": {
     "end_time": "2024-12-20T23:49:47.074127Z",
     "start_time": "2024-12-20T23:49:47.068269Z"
    }
   },
   "cell_type": "code",
   "source": [
    "import os\n",
    "from dotenv import load_dotenv\n",
    "from IPython.display import Markdown\n",
    "\n",
    "load_dotenv()\n",
    "GOOGLE_API_KEY = os.environ.get('GOOGLE_API_KEY')\n",
    "\n",
    "from typing import List\n",
    "from google import genai\n",
    "from google.genai import types\n",
    "\n",
    "client = genai.Client(api_key=GOOGLE_API_KEY)\n",
    "\n",
    "MODEL_ID = \"gemini-2.0-flash-exp\" # @param [\"gemini-1.5-flash-8b\",\"gemini-1.5-flash-002\",\"gemini-1.5-pro-002\",\"gemini-2.0-flash-exp\"] {\"allow-input\":true}"
   ],
   "id": "fed6f102ceac5191",
   "outputs": [],
   "execution_count": 51
  },
  {
   "metadata": {
    "ExecuteTime": {
     "end_time": "2024-12-20T23:49:47.161765Z",
     "start_time": "2024-12-20T23:49:47.080163Z"
    }
   },
   "cell_type": "code",
   "source": [
    "# Prepare the file to be uploaded\n",
    "import pathlib\n",
    "\n",
    "all_mp4_files = list(pathlib.Path('.\\\\panda70m_hq6m_formatted_humansOnly_v2.1').rglob('*.mp4'))"
   ],
   "id": "dabeebce61b6bf3",
   "outputs": [],
   "execution_count": 52
  },
  {
   "metadata": {
    "ExecuteTime": {
     "end_time": "2024-12-20T23:49:47.217377Z",
     "start_time": "2024-12-20T23:49:47.212108Z"
    }
   },
   "cell_type": "code",
   "source": "all_mp4_files[0].stem",
   "id": "f033e2ecba5608f",
   "outputs": [
    {
     "data": {
      "text/plain": [
       "'0000000_00000'"
      ]
     },
     "execution_count": 54,
     "metadata": {},
     "output_type": "execute_result"
    }
   ],
   "execution_count": 54
  },
  {
   "metadata": {
    "ExecuteTime": {
     "end_time": "2024-12-20T23:49:47.237821Z",
     "start_time": "2024-12-20T23:49:47.231903Z"
    }
   },
   "cell_type": "code",
   "source": [
    "video_filename = '0000104_00000'\n",
    "video_path = list(filter(lambda file: file.stem == video_filename, all_mp4_files))\n",
    "assert len(video_path) == 1, f\"Expected 1 video name match, but found {len(video_path)} files.\"\n",
    "video_path = video_path[0]"
   ],
   "id": "91069dda4678f5fd",
   "outputs": [],
   "execution_count": 55
  },
  {
   "metadata": {
    "ExecuteTime": {
     "end_time": "2024-12-20T23:49:47.261377Z",
     "start_time": "2024-12-20T23:49:47.256100Z"
    }
   },
   "cell_type": "code",
   "source": "video_path",
   "id": "3ea86c81306c2a2b",
   "outputs": [
    {
     "data": {
      "text/plain": [
       "WindowsPath('panda70m_hq6m_formatted_humansOnly_v2.1/00001/0000104_00000.mp4')"
      ]
     },
     "execution_count": 56,
     "metadata": {},
     "output_type": "execute_result"
    }
   ],
   "execution_count": 56
  },
  {
   "metadata": {
    "ExecuteTime": {
     "end_time": "2024-12-20T23:49:48.411223Z",
     "start_time": "2024-12-20T23:49:47.281023Z"
    }
   },
   "cell_type": "code",
   "source": [
    "img_path = video_path\n",
    "# Upload the file using the API\n",
    "file_upload = client.files.upload(path=img_path)"
   ],
   "id": "2ce5bd758aef79da",
   "outputs": [],
   "execution_count": 57
  },
  {
   "metadata": {
    "ExecuteTime": {
     "end_time": "2024-12-20T23:49:58.549100Z",
     "start_time": "2024-12-20T23:49:48.422677Z"
    }
   },
   "cell_type": "code",
   "source": [
    "import time\n",
    "\n",
    "# Prepare the file to be uploaded\n",
    "while file_upload.state == \"PROCESSING\":\n",
    "    print('Waiting for video to be processed.')\n",
    "    time.sleep(10)\n",
    "    file_upload = client.files.get(name=file_upload.name)\n",
    "\n",
    "if file_upload.state == \"FAILED\":\n",
    "  raise ValueError(file_upload.state)\n",
    "print(f'Video processing complete: ' + file_upload.uri)"
   ],
   "id": "a32eb11486bd4d09",
   "outputs": [
    {
     "name": "stdout",
     "output_type": "stream",
     "text": [
      "Waiting for video to be processed.\n",
      "Video processing complete: https://generativelanguage.googleapis.com/v1beta/files/slzcrppaupfv\n"
     ]
    }
   ],
   "execution_count": 58
  },
  {
   "metadata": {
    "ExecuteTime": {
     "end_time": "2024-12-20T23:49:58.564Z",
     "start_time": "2024-12-20T23:49:58.560394Z"
    }
   },
   "cell_type": "code",
   "source": "print(file_upload.state)",
   "id": "ad1b01b5914bdde0",
   "outputs": [
    {
     "name": "stdout",
     "output_type": "stream",
     "text": [
      "ACTIVE\n"
     ]
    }
   ],
   "execution_count": 59
  },
  {
   "metadata": {
    "ExecuteTime": {
     "end_time": "2024-12-20T23:49:58.590045Z",
     "start_time": "2024-12-20T23:49:58.585990Z"
    }
   },
   "cell_type": "code",
   "source": [
    "SYSTEM_PROMPT = \"When given a video and a query, call the relevant function only once with the appropriate timecodes and text for the video\"\n",
    "# prompt for checking human presence\n",
    "USER_PROMPT = 'Generate chart data for this video based on the following instructions: for each scene, count the number of people visible. Call set_timecodes_with_numeric_values once with the list of data values and timecodes.'"
   ],
   "id": "5d054a23e7b0af38",
   "outputs": [],
   "execution_count": 60
  },
  {
   "metadata": {
    "ExecuteTime": {
     "end_time": "2024-12-20T23:49:58.616790Z",
     "start_time": "2024-12-20T23:49:58.612723Z"
    }
   },
   "cell_type": "code",
   "source": [
    "\n",
    "\n",
    "# response = client.models.generate_content(\n",
    "#     model=MODEL_ID,\n",
    "#     contents=[\n",
    "#         types.Content(\n",
    "#             role=\"user\",\n",
    "#             parts=[\n",
    "#                 types.Part.from_uri(\n",
    "#                     file_uri=file_upload.uri,\n",
    "#                     mime_type=file_upload.mime_type),\n",
    "#                 ]),\n",
    "#         USER_PROMPT,\n",
    "#     ],\n",
    "#     config=types.GenerateContentConfig(\n",
    "#         system_instruction=SYSTEM_PROMPT,\n",
    "#         temperature=0.0,\n",
    "#     ),\n",
    "# )\n",
    "#\n",
    "# Markdown(response.text)"
   ],
   "id": "4b04b5ad67b92d65",
   "outputs": [],
   "execution_count": 61
  },
  {
   "metadata": {},
   "cell_type": "markdown",
   "source": "## Add in the Function Calls to get back the data in a way we expect it",
   "id": "bbd067208e291cf5"
  },
  {
   "metadata": {
    "ExecuteTime": {
     "end_time": "2024-12-20T23:49:58.652342Z",
     "start_time": "2024-12-20T23:49:58.642989Z"
    }
   },
   "cell_type": "code",
   "source": [
    "set_timecodes = types.FunctionDeclaration(\n",
    "    name=\"set_timecodes\",\n",
    "    description=\"Set the timecodes for the video with associated text\",\n",
    "    parameters={\n",
    "        \"type\": \"OBJECT\",\n",
    "        \"properties\": {\n",
    "            \"timecodes\": {\n",
    "                \"type\": \"ARRAY\",\n",
    "                \"items\": {\n",
    "                    \"type\": \"OBJECT\",\n",
    "                    \"properties\": {\n",
    "                        \"time\": {\"type\": \"STRING\"},\n",
    "                        \"text\": {\"type\": \"STRING\"},\n",
    "                    },\n",
    "                    \"required\": [\"time\", \"text\"],\n",
    "                }\n",
    "            }\n",
    "        },\n",
    "        \"required\": [\"timecodes\"]\n",
    "    }\n",
    ")\n",
    "\n",
    "set_timecodes_with_objects = types.FunctionDeclaration(\n",
    "    name=\"set_timecodes_with_objects\",\n",
    "    description=\"Set the timecodes for the video with associated text and object list\",\n",
    "    parameters={\n",
    "        \"type\": \"OBJECT\",\n",
    "        \"properties\": {\n",
    "            \"timecodes\": {\n",
    "                \"type\": \"ARRAY\",\n",
    "                \"items\": {\n",
    "                    \"type\": \"OBJECT\",\n",
    "                    \"properties\": {\n",
    "                        \"time\": {\"type\": \"STRING\"},\n",
    "                        \"text\": {\"type\": \"STRING\"},\n",
    "                        \"objects\": {\n",
    "                            \"type\": \"ARRAY\",\n",
    "                            \"items\": {\"type\": \"STRING\"},\n",
    "                        },\n",
    "                    },\n",
    "                    \"required\": [\"time\", \"text\", \"objects\"],\n",
    "                }\n",
    "            }\n",
    "        },\n",
    "        \"required\": [\"timecodes\"],\n",
    "    }\n",
    ")\n",
    "\n",
    "set_timecodes_with_numeric_values = types.FunctionDeclaration(\n",
    "    name=\"set_timecodes_with_numeric_values\",\n",
    "    description=\"Set the timecodes for the video with associated numeric values\",\n",
    "    parameters={\n",
    "        \"type\": \"OBJECT\",\n",
    "        \"properties\": {\n",
    "            \"timecodes\": {\n",
    "                \"type\": \"ARRAY\",\n",
    "                \"items\": {\n",
    "                    \"type\": \"OBJECT\",\n",
    "                    \"properties\": {\n",
    "                        \"time\": {\"type\": \"STRING\"},\n",
    "                        \"value\": {\"type\": \"NUMBER\"},\n",
    "                    },\n",
    "                    \"required\": [\"time\", \"value\"],\n",
    "                }\n",
    "            }\n",
    "        },\n",
    "        \"required\": [\"timecodes\"],\n",
    "    }\n",
    ")\n",
    "\n",
    "set_timecodes_with_descriptions = types.FunctionDeclaration(\n",
    "    name=\"set_timecodes_with_descriptions\",\n",
    "    description=\"Set the timecodes for the video with associated spoken text and visual descriptions\",\n",
    "    parameters={\n",
    "        \"type\": \"OBJECT\",\n",
    "        \"properties\": {\n",
    "            \"timecodes\": {\n",
    "                \"type\": \"ARRAY\",\n",
    "                \"items\": {\n",
    "                    \"type\": \"OBJECT\",\n",
    "                    \"properties\": {\n",
    "                        \"time\": {\"type\": \"STRING\"},\n",
    "                        \"spoken_text\": {\"type\": \"STRING\"},\n",
    "                        \"visual_description\": {\"type\": \"STRING\"},\n",
    "                    },\n",
    "                    \"required\": [\"time\", \"spoken_text\", \"visual_description\"],\n",
    "                }\n",
    "            }\n",
    "        },\n",
    "        \"required\": [\"timecodes\"]\n",
    "    }\n",
    ")\n",
    "\n",
    "video_tools = types.Tool(\n",
    "    function_declarations=[set_timecodes, set_timecodes_with_objects, set_timecodes_with_numeric_values],\n",
    ")\n",
    "\n",
    "def set_timecodes_func(timecodes):\n",
    "    return [{**t, \"text\": t[\"text\"].replace(\"\\\\'\", \"'\")} for t in timecodes]\n",
    "\n",
    "def set_timecodes_with_objects_func(timecodes):\n",
    "    return [{**t, \"text\": t[\"text\"].replace(\"\\\\'\", \"'\")} for t in timecodes]\n",
    "\n",
    "def set_timecodes_with_descriptions_func(timecodes):\n",
    "    return [{**t, \"text\": t[\"spoken_text\"].replace(\"\\\\'\", \"'\")} for t in timecodes]"
   ],
   "id": "34906d6d5dbc7e4b",
   "outputs": [],
   "execution_count": 62
  },
  {
   "metadata": {
    "ExecuteTime": {
     "end_time": "2024-12-20T23:50:01.406371Z",
     "start_time": "2024-12-20T23:49:58.669888Z"
    }
   },
   "cell_type": "code",
   "source": [
    "response = client.models.generate_content(\n",
    "    model=MODEL_ID,\n",
    "    contents=[\n",
    "        types.Content(\n",
    "            role=\"user\",\n",
    "            parts=[\n",
    "                types.Part.from_uri(\n",
    "                    file_uri=file_upload.uri,\n",
    "                    mime_type=file_upload.mime_type),\n",
    "                ]),\n",
    "        USER_PROMPT,\n",
    "    ],\n",
    "    config=types.GenerateContentConfig(\n",
    "        system_instruction=SYSTEM_PROMPT,\n",
    "        tools=[video_tools],\n",
    "        temperature=0,\n",
    "    )\n",
    ")\n"
   ],
   "id": "154fef3779f7f4e4",
   "outputs": [],
   "execution_count": 63
  },
  {
   "metadata": {
    "ExecuteTime": {
     "end_time": "2024-12-20T23:50:01.423341Z",
     "start_time": "2024-12-20T23:50:01.418055Z"
    }
   },
   "cell_type": "code",
   "source": "response.candidates[0].content.parts[0].function_call.name",
   "id": "a6ade0e62cf91726",
   "outputs": [
    {
     "data": {
      "text/plain": [
       "'set_timecodes_with_numeric_values'"
      ]
     },
     "execution_count": 64,
     "metadata": {},
     "output_type": "execute_result"
    }
   ],
   "execution_count": 64
  },
  {
   "metadata": {
    "ExecuteTime": {
     "end_time": "2024-12-20T23:50:01.439355Z",
     "start_time": "2024-12-20T23:50:01.436348Z"
    }
   },
   "cell_type": "code",
   "source": "results = response.candidates[0].content.parts[0].function_call.args",
   "id": "d8d1f2b8dc2381c9",
   "outputs": [],
   "execution_count": 65
  },
  {
   "metadata": {
    "ExecuteTime": {
     "end_time": "2024-12-20T23:50:01.454872Z",
     "start_time": "2024-12-20T23:50:01.449687Z"
    }
   },
   "cell_type": "code",
   "source": [
    "from pprint import pprint\n",
    "import datetime\n",
    "\n",
    "# Sort the list of dictionaries by the 'time' key\n",
    "sorted_timecodes = sorted(results['timecodes'], key=lambda x: datetime.datetime.strptime(x['time'], '%H:%M'))\n",
    "\n",
    "# Ensure 'time' key is first in each dictionary\n",
    "sorted_timecodes = [{'time': item['time'], **{k: v for k, v in item.items() if k != 'time'}} for item in sorted_timecodes]\n",
    "\n",
    "results['timecodes'] = sorted_timecodes\n",
    "\n",
    "print(results)"
   ],
   "id": "633da2bfa7bb9cfa",
   "outputs": [
    {
     "name": "stdout",
     "output_type": "stream",
     "text": [
      "{'timecodes': [{'time': '00:00', 'value': 1}, {'time': '00:01', 'value': 1}]}\n"
     ]
    }
   ],
   "execution_count": 66
  },
  {
   "metadata": {
    "ExecuteTime": {
     "end_time": "2024-12-20T23:50:01.474356Z",
     "start_time": "2024-12-20T23:50:01.469808Z"
    }
   },
   "cell_type": "code",
   "source": [
    "import json\n",
    "# Save the JSON to a file with proper formatting\n",
    "\n",
    "json_output_path = f'{str(video_path.parent)}\\\\{str(video_path.stem)}_tc_humans.json'\n",
    "\n",
    "with open(json_output_path, 'w') as json_file:\n",
    "    json.dump(results, json_file, indent=4)\n",
    "\n",
    "print(f\"Video analyzer results saved to [{json_output_path}]\")"
   ],
   "id": "dc9138382416b187",
   "outputs": [
    {
     "name": "stdout",
     "output_type": "stream",
     "text": [
      "Video analyzer results saved to [panda70m_hq6m_formatted_humansOnly_v2.1\\00001\\0000104_00000_tc_humans.json]\n"
     ]
    }
   ],
   "execution_count": 67
  }
 ],
 "metadata": {
  "kernelspec": {
   "name": "python3",
   "language": "python",
   "display_name": "Python 3 (ipykernel)"
  }
 },
 "nbformat": 5,
 "nbformat_minor": 9
}
